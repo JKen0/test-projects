{
 "cells": [
  {
   "cell_type": "code",
   "execution_count": 24,
   "metadata": {},
   "outputs": [
    {
     "name": "stdout",
     "output_type": "stream",
     "text": [
      "Modified array saved to: C:\\Dev\\test-samples\\typescript-reactjs\\src\\testdata\\convertcsv.json\n"
     ]
    }
   ],
   "source": [
    "import json\n",
    "\n",
    "# Read the original array from the JSON file\n",
    "with open('C:\\\\Dev\\\\test-samples\\\\typescript-reactjs\\\\src\\\\testdata\\\\convertcsv.json', 'r') as file:\n",
    "    original_array = json.load(file)\n",
    "\n",
    "new_array = []\n",
    "\n",
    "for item in original_array:\n",
    "    # Example: Adding a new attribute based on existing attributes\n",
    "    [codeA, codeB] = item[\"CourseCode\"].split(\" \")\n",
    "\n",
    "    if (codeA == 'CAS' or codeA == 'COMPSCI'):\n",
    "        item[\"Department\"] = \"Computing & Software\"\n",
    "    elif (codeA == 'MATH' or codeA == 'STATS'):\n",
    "        item[\"Department\"] = \"Mathematics & Statistics\"\n",
    "    elif (codeA == 'COMMERCE'):\n",
    "        item[\"Department\"] = \"Faculty of Business\"\n",
    "    elif (codeA == 'ECON'):\n",
    "        item[\"Department\"] = \"Faculty of Economics\"\n",
    "    elif (codeA == 'SEP'):\n",
    "        item[\"Department\"] = \"W Booth School of Engeering Practice & Techology\"\n",
    "    elif (codeA == 'KOREAN'):\n",
    "        item[\"Department\"] = \"Linguistics & Languages\"\n",
    "    elif (codeA == 'PHYSICS'):\n",
    "        item[\"Department\"] = \"Physics & Astronomy\"\n",
    "    elif (codeA == 'SCIENCE' or codeA == 'WHMIS'):\n",
    "        item[\"Department\"] = \"Faculty of Science\"\n",
    "    elif (codeA == 'SGS'):\n",
    "        item[\"Department\"] = \"School of Graduate Studies\"\n",
    "\n",
    "    if(len(codeA) == 3):\n",
    "        item[\"Career\"] = \"Graduate\"\n",
    "    else:\n",
    "        item[\"Career\"] = \"Undergraduate\"\n",
    "\n",
    "    new_array.append(item)\n",
    "\n",
    "# Save the modified array to a new JSON file\n",
    "output_file_path = 'C:\\\\Dev\\\\test-samples\\\\typescript-reactjs\\\\src\\\\testdata\\\\convertcsv.json'\n",
    "with open(output_file_path, 'w') as output_file:\n",
    "    json.dump(new_array, output_file, indent=4)\n",
    "\n",
    "print(\"Modified array saved to:\", output_file_path)"
   ]
  }
 ],
 "metadata": {
  "kernelspec": {
   "display_name": "Python 3",
   "language": "python",
   "name": "python3"
  },
  "language_info": {
   "codemirror_mode": {
    "name": "ipython",
    "version": 3
   },
   "file_extension": ".py",
   "mimetype": "text/x-python",
   "name": "python",
   "nbconvert_exporter": "python",
   "pygments_lexer": "ipython3",
   "version": "3.11.2"
  }
 },
 "nbformat": 4,
 "nbformat_minor": 2
}
